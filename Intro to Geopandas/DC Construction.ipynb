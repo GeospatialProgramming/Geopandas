{
 "cells": [
  {
   "cell_type": "markdown",
   "id": "2327bbde",
   "metadata": {},
   "source": [
    "# Introduction to GeoPandas\n",
    "\n",
    "This notebook is self-contained, and has code used in the \"Intro to GeoPandas\" video on our [youtube channel](https://www.youtube.com/channel/UC34uByppapyrr-gubZMd9OQ).  Please feel free to reach out with any questions. "
   ]
  },
  {
   "cell_type": "code",
   "execution_count": 1,
   "id": "cdea0a35",
   "metadata": {},
   "outputs": [],
   "source": [
    "import pandas as pd\n",
    "import geopandas as gpd"
   ]
  },
  {
   "cell_type": "code",
   "execution_count": 2,
   "id": "0421fff5",
   "metadata": {},
   "outputs": [],
   "source": [
    "# Links to pull data from the DC OpenData portal\n",
    "\n",
    "neighborhood_laydown = \"https://opendata.arcgis.com/datasets/f6c703ebe2534fc3800609a07bad8f5b_17.geojson\"\n",
    "# If this url fails, you can download the geojson from here: https://dc.esri.com/datasets/dcdev::dc-neighborhood-clusters-1\"\n",
    "\n",
    "datasets = {\n",
    "    \"2021\": \"https://opendata.arcgis.com/datasets/da3da798fb4f4f0e9de5c3a17c39351f_10.geojson\",\n",
    "    \"2020\": \"https://opendata.arcgis.com/datasets/ac617c291bbd466bbbea6272f87811d3_8.geojson\",\n",
    "    \"2019\": \"https://opendata.arcgis.com/datasets/107f535e5d3347a8ac1e46dbc13669d4_6.geojson\",\n",
    "    \"2018\": \"https://opendata.arcgis.com/datasets/ca581e1b455a46caa266e3476f8205d2_0.geojson\",\n",
    "    \"2017\": \"https://opendata.arcgis.com/datasets/585c8c3ef58c4f1ab1ddf1c759b3a8bd_39.geojson\",\n",
    "    \"2016\": \"https://opendata.arcgis.com/datasets/2dc1a7dbb705471eb38af39acfa16238_28.geojson\", \n",
    "    \"2015\": \"https://opendata.arcgis.com/datasets/b3283607f9b74457aff420081eec3190_29.geojson\",\n",
    "    \"2014\": \"https://opendata.arcgis.com/datasets/54b57e15f6944af8b413a5e4f88b070c_13.geojson\",\n",
    "    \"2013\": \"https://opendata.arcgis.com/datasets/3d49e06d51984fa2b68f21eed21eba1f_14.geojson\",\n",
    "    \"2012\": \"https://opendata.arcgis.com/datasets/9cbe8553d4e2456ab6c140d83c7e83e0_15.geojson\"\n",
    "}"
   ]
  },
  {
   "cell_type": "markdown",
   "id": "d209480d",
   "metadata": {},
   "source": [
    "## Read in the Neighborhood Laydown"
   ]
  },
  {
   "cell_type": "code",
   "execution_count": 3,
   "id": "9eb09548",
   "metadata": {},
   "outputs": [],
   "source": [
    "gdf_neigh = gpd.read_file(neighborhood_laydown)"
   ]
  },
  {
   "cell_type": "code",
   "execution_count": 4,
   "id": "5a4b3486",
   "metadata": {
    "scrolled": true
   },
   "outputs": [
    {
     "data": {
      "text/html": [
       "<div>\n",
       "<style scoped>\n",
       "    .dataframe tbody tr th:only-of-type {\n",
       "        vertical-align: middle;\n",
       "    }\n",
       "\n",
       "    .dataframe tbody tr th {\n",
       "        vertical-align: top;\n",
       "    }\n",
       "\n",
       "    .dataframe thead th {\n",
       "        text-align: right;\n",
       "    }\n",
       "</style>\n",
       "<table border=\"1\" class=\"dataframe\">\n",
       "  <thead>\n",
       "    <tr style=\"text-align: right;\">\n",
       "      <th></th>\n",
       "      <th>OBJECTID</th>\n",
       "      <th>WEB_URL</th>\n",
       "      <th>NAME</th>\n",
       "      <th>NBH_NAMES</th>\n",
       "      <th>TYPE</th>\n",
       "      <th>GLOBALID</th>\n",
       "      <th>CREATOR</th>\n",
       "      <th>CREATED</th>\n",
       "      <th>EDITOR</th>\n",
       "      <th>EDITED</th>\n",
       "      <th>SHAPEAREA</th>\n",
       "      <th>SHAPELEN</th>\n",
       "      <th>geometry</th>\n",
       "    </tr>\n",
       "  </thead>\n",
       "  <tbody>\n",
       "    <tr>\n",
       "      <th>0</th>\n",
       "      <td>1</td>\n",
       "      <td>http://planning.dc.gov/</td>\n",
       "      <td>Cluster 16</td>\n",
       "      <td>Colonial Village, Shepherd Park, North Portal ...</td>\n",
       "      <td>Original</td>\n",
       "      <td>{8D235E97-D58C-4891-943E-307143103BD9}</td>\n",
       "      <td>None</td>\n",
       "      <td>None</td>\n",
       "      <td>None</td>\n",
       "      <td>None</td>\n",
       "      <td>0</td>\n",
       "      <td>0</td>\n",
       "      <td>POLYGON ((-77.02829 38.98608, -77.02952 38.987...</td>\n",
       "    </tr>\n",
       "    <tr>\n",
       "      <th>1</th>\n",
       "      <td>2</td>\n",
       "      <td>None</td>\n",
       "      <td>Cluster 41</td>\n",
       "      <td>Rock Creek Park</td>\n",
       "      <td>Additional</td>\n",
       "      <td>{939C23A8-8EE2-4B4F-85EE-88281BCCC9A0}</td>\n",
       "      <td>None</td>\n",
       "      <td>None</td>\n",
       "      <td>None</td>\n",
       "      <td>None</td>\n",
       "      <td>0</td>\n",
       "      <td>0</td>\n",
       "      <td>POLYGON ((-77.04391 38.98432, -77.04418 38.984...</td>\n",
       "    </tr>\n",
       "    <tr>\n",
       "      <th>2</th>\n",
       "      <td>3</td>\n",
       "      <td>http://planning.dc.gov/</td>\n",
       "      <td>Cluster 10</td>\n",
       "      <td>Hawthorne, Barnaby Woods, Chevy Chase</td>\n",
       "      <td>Original</td>\n",
       "      <td>{8EADC8B8-3DAD-4E5D-AAF8-BF63D8316317}</td>\n",
       "      <td>None</td>\n",
       "      <td>None</td>\n",
       "      <td>None</td>\n",
       "      <td>None</td>\n",
       "      <td>0</td>\n",
       "      <td>0</td>\n",
       "      <td>POLYGON ((-77.05530 38.95900, -77.05530 38.959...</td>\n",
       "    </tr>\n",
       "    <tr>\n",
       "      <th>3</th>\n",
       "      <td>4</td>\n",
       "      <td>http://planning.dc.gov/</td>\n",
       "      <td>Cluster 17</td>\n",
       "      <td>Takoma, Brightwood, Manor Park</td>\n",
       "      <td>Original</td>\n",
       "      <td>{5BF4BCEC-5022-4B96-9577-C0246154197C}</td>\n",
       "      <td>None</td>\n",
       "      <td>None</td>\n",
       "      <td>None</td>\n",
       "      <td>None</td>\n",
       "      <td>0</td>\n",
       "      <td>0</td>\n",
       "      <td>POLYGON ((-77.01418 38.97237, -77.01403 38.972...</td>\n",
       "    </tr>\n",
       "    <tr>\n",
       "      <th>4</th>\n",
       "      <td>5</td>\n",
       "      <td>None</td>\n",
       "      <td>Cluster 40</td>\n",
       "      <td>Walter Reed</td>\n",
       "      <td>Additional</td>\n",
       "      <td>{C6705A7B-212E-419A-93CB-DA60707D0C37}</td>\n",
       "      <td>None</td>\n",
       "      <td>None</td>\n",
       "      <td>None</td>\n",
       "      <td>None</td>\n",
       "      <td>0</td>\n",
       "      <td>0</td>\n",
       "      <td>POLYGON ((-77.03286 38.97800, -77.03297 38.978...</td>\n",
       "    </tr>\n",
       "  </tbody>\n",
       "</table>\n",
       "</div>"
      ],
      "text/plain": [
       "   OBJECTID                  WEB_URL        NAME  \\\n",
       "0         1  http://planning.dc.gov/  Cluster 16   \n",
       "1         2                     None  Cluster 41   \n",
       "2         3  http://planning.dc.gov/  Cluster 10   \n",
       "3         4  http://planning.dc.gov/  Cluster 17   \n",
       "4         5                     None  Cluster 40   \n",
       "\n",
       "                                           NBH_NAMES        TYPE  \\\n",
       "0  Colonial Village, Shepherd Park, North Portal ...    Original   \n",
       "1                                    Rock Creek Park  Additional   \n",
       "2              Hawthorne, Barnaby Woods, Chevy Chase    Original   \n",
       "3                     Takoma, Brightwood, Manor Park    Original   \n",
       "4                                        Walter Reed  Additional   \n",
       "\n",
       "                                 GLOBALID CREATOR CREATED EDITOR EDITED  \\\n",
       "0  {8D235E97-D58C-4891-943E-307143103BD9}    None    None   None   None   \n",
       "1  {939C23A8-8EE2-4B4F-85EE-88281BCCC9A0}    None    None   None   None   \n",
       "2  {8EADC8B8-3DAD-4E5D-AAF8-BF63D8316317}    None    None   None   None   \n",
       "3  {5BF4BCEC-5022-4B96-9577-C0246154197C}    None    None   None   None   \n",
       "4  {C6705A7B-212E-419A-93CB-DA60707D0C37}    None    None   None   None   \n",
       "\n",
       "   SHAPEAREA  SHAPELEN                                           geometry  \n",
       "0          0         0  POLYGON ((-77.02829 38.98608, -77.02952 38.987...  \n",
       "1          0         0  POLYGON ((-77.04391 38.98432, -77.04418 38.984...  \n",
       "2          0         0  POLYGON ((-77.05530 38.95900, -77.05530 38.959...  \n",
       "3          0         0  POLYGON ((-77.01418 38.97237, -77.01403 38.972...  \n",
       "4          0         0  POLYGON ((-77.03286 38.97800, -77.03297 38.978...  "
      ]
     },
     "execution_count": 4,
     "metadata": {},
     "output_type": "execute_result"
    }
   ],
   "source": [
    "gdf_neigh.head()"
   ]
  },
  {
   "cell_type": "code",
   "execution_count": 5,
   "id": "b75f3e93",
   "metadata": {},
   "outputs": [
    {
     "data": {
      "text/plain": [
       "geopandas.geodataframe.GeoDataFrame"
      ]
     },
     "execution_count": 5,
     "metadata": {},
     "output_type": "execute_result"
    }
   ],
   "source": [
    "type(gdf_neigh)"
   ]
  },
  {
   "cell_type": "code",
   "execution_count": 6,
   "id": "ba762816",
   "metadata": {},
   "outputs": [
    {
     "data": {
      "text/plain": [
       "<Geographic 2D CRS: EPSG:4326>\n",
       "Name: WGS 84\n",
       "Axis Info [ellipsoidal]:\n",
       "- Lat[north]: Geodetic latitude (degree)\n",
       "- Lon[east]: Geodetic longitude (degree)\n",
       "Area of Use:\n",
       "- name: World.\n",
       "- bounds: (-180.0, -90.0, 180.0, 90.0)\n",
       "Datum: World Geodetic System 1984 ensemble\n",
       "- Ellipsoid: WGS 84\n",
       "- Prime Meridian: Greenwich"
      ]
     },
     "execution_count": 6,
     "metadata": {},
     "output_type": "execute_result"
    }
   ],
   "source": [
    "gdf_neigh.crs"
   ]
  },
  {
   "cell_type": "code",
   "execution_count": 7,
   "id": "e705c00f",
   "metadata": {
    "scrolled": false
   },
   "outputs": [
    {
     "data": {
      "text/plain": [
       "293472467.71598697"
      ]
     },
     "execution_count": 7,
     "metadata": {},
     "output_type": "execute_result"
    }
   ],
   "source": [
    "gdf_neigh.to_crs(3857).area.sum()"
   ]
  },
  {
   "cell_type": "code",
   "execution_count": 8,
   "id": "462650d7",
   "metadata": {},
   "outputs": [
    {
     "data": {
      "text/plain": [
       "<AxesSubplot:>"
      ]
     },
     "execution_count": 8,
     "metadata": {},
     "output_type": "execute_result"
    },
    {
     "data": {
      "image/png": "[encoded data removed]",
      "text/plain": [
       "<Figure size 432x288 with 1 Axes>"
      ]
     },
     "metadata": {
      "needs_background": "light"
     },
     "output_type": "display_data"
    }
   ],
   "source": [
    "gdf_neigh.plot()"
   ]
  },
  {
   "cell_type": "markdown",
   "id": "354b39c2",
   "metadata": {},
   "source": [
    "## Read in the Construction Permit Files"
   ]
  },
  {
   "cell_type": "code",
   "execution_count": 9,
   "id": "b89e8f15",
   "metadata": {},
   "outputs": [],
   "source": [
    "df_list = []\n",
    "for year, url in datasets.items():  \n",
    "    gdf = gpd.read_file(url)\n",
    "    gdf['year'] = year\n",
    "    \n",
    "    df_list.append(gdf)"
   ]
  },
  {
   "cell_type": "code",
   "execution_count": 10,
   "id": "850736f2",
   "metadata": {},
   "outputs": [
    {
     "data": {
      "text/plain": [
       "(151524, 34)"
      ]
     },
     "execution_count": 10,
     "metadata": {},
     "output_type": "execute_result"
    }
   ],
   "source": [
    "gdf = pd.concat(df_list)\n",
    "gdf.shape"
   ]
  },
  {
   "cell_type": "markdown",
   "id": "64f9730a",
   "metadata": {},
   "source": [
    "## Perform a spatial join to add cluster and neighborhood name to the permit data"
   ]
  },
  {
   "cell_type": "code",
   "execution_count": 11,
   "id": "da234254",
   "metadata": {},
   "outputs": [],
   "source": [
    "gdf_join = gdf.sjoin(gdf_neigh[['NAME', 'NBH_NAMES', 'geometry']], how=\"left\", predicate=\"within\")"
   ]
  },
  {
   "cell_type": "code",
   "execution_count": 12,
   "id": "b34ee49c",
   "metadata": {},
   "outputs": [
    {
     "data": {
      "text/html": [
       "<div>\n",
       "<style scoped>\n",
       "    .dataframe tbody tr th:only-of-type {\n",
       "        vertical-align: middle;\n",
       "    }\n",
       "\n",
       "    .dataframe tbody tr th {\n",
       "        vertical-align: top;\n",
       "    }\n",
       "\n",
       "    .dataframe thead th {\n",
       "        text-align: right;\n",
       "    }\n",
       "</style>\n",
       "<table border=\"1\" class=\"dataframe\">\n",
       "  <thead>\n",
       "    <tr style=\"text-align: right;\">\n",
       "      <th></th>\n",
       "      <th>OBJECTID</th>\n",
       "      <th>APPLICATIONDATE</th>\n",
       "      <th>ISEXCAVATION</th>\n",
       "      <th>ISFIXTURE</th>\n",
       "      <th>ISPAVING</th>\n",
       "      <th>ISLANDSCAPING</th>\n",
       "      <th>ISPROJECTIONS</th>\n",
       "      <th>ISPSRENTAL</th>\n",
       "      <th>TRACKINGNUMBER</th>\n",
       "      <th>PERMITNUMBER</th>\n",
       "      <th>...</th>\n",
       "      <th>GLOBALID</th>\n",
       "      <th>CREATOR</th>\n",
       "      <th>CREATED</th>\n",
       "      <th>EDITOR</th>\n",
       "      <th>EDITED</th>\n",
       "      <th>geometry</th>\n",
       "      <th>year</th>\n",
       "      <th>index_right</th>\n",
       "      <th>NAME</th>\n",
       "      <th>NBH_NAMES</th>\n",
       "    </tr>\n",
       "  </thead>\n",
       "  <tbody>\n",
       "    <tr>\n",
       "      <th>0</th>\n",
       "      <td>95152658</td>\n",
       "      <td>2019-04-26T15:13:11+00:00</td>\n",
       "      <td>F</td>\n",
       "      <td>T</td>\n",
       "      <td>F</td>\n",
       "      <td>F</td>\n",
       "      <td>F</td>\n",
       "      <td>F</td>\n",
       "      <td>330005</td>\n",
       "      <td>PA330005</td>\n",
       "      <td>...</td>\n",
       "      <td>{D44B1628-F597-03FC-E053-792F520A2FD8}</td>\n",
       "      <td>None</td>\n",
       "      <td>None</td>\n",
       "      <td>None</td>\n",
       "      <td>None</td>\n",
       "      <td>POINT (-76.95384 38.88363)</td>\n",
       "      <td>2021</td>\n",
       "      <td>37.0</td>\n",
       "      <td>Cluster 32</td>\n",
       "      <td>River Terrace, Benning, Greenway, Dupont Park</td>\n",
       "    </tr>\n",
       "    <tr>\n",
       "      <th>1</th>\n",
       "      <td>95153259</td>\n",
       "      <td>2016-06-15T18:47:18+00:00</td>\n",
       "      <td>T</td>\n",
       "      <td>F</td>\n",
       "      <td>T</td>\n",
       "      <td>F</td>\n",
       "      <td>F</td>\n",
       "      <td>F</td>\n",
       "      <td>179259</td>\n",
       "      <td>None</td>\n",
       "      <td>...</td>\n",
       "      <td>{D44B1628-F7F0-03FC-E053-792F520A2FD8}</td>\n",
       "      <td>None</td>\n",
       "      <td>None</td>\n",
       "      <td>None</td>\n",
       "      <td>None</td>\n",
       "      <td>POINT (-77.00783 38.87624)</td>\n",
       "      <td>2021</td>\n",
       "      <td>42.0</td>\n",
       "      <td>Cluster 27</td>\n",
       "      <td>Near Southeast, Navy Yard</td>\n",
       "    </tr>\n",
       "  </tbody>\n",
       "</table>\n",
       "<p>2 rows × 37 columns</p>\n",
       "</div>"
      ],
      "text/plain": [
       "   OBJECTID            APPLICATIONDATE ISEXCAVATION ISFIXTURE ISPAVING  \\\n",
       "0  95152658  2019-04-26T15:13:11+00:00            F         T        F   \n",
       "1  95153259  2016-06-15T18:47:18+00:00            T         F        T   \n",
       "\n",
       "  ISLANDSCAPING ISPROJECTIONS ISPSRENTAL TRACKINGNUMBER PERMITNUMBER  ...  \\\n",
       "0             F             F          F         330005     PA330005  ...   \n",
       "1             F             F          F         179259         None  ...   \n",
       "\n",
       "                                 GLOBALID CREATOR CREATED EDITOR  EDITED  \\\n",
       "0  {D44B1628-F597-03FC-E053-792F520A2FD8}    None    None   None    None   \n",
       "1  {D44B1628-F7F0-03FC-E053-792F520A2FD8}    None    None   None    None   \n",
       "\n",
       "                     geometry  year index_right        NAME  \\\n",
       "0  POINT (-76.95384 38.88363)  2021        37.0  Cluster 32   \n",
       "1  POINT (-77.00783 38.87624)  2021        42.0  Cluster 27   \n",
       "\n",
       "                                       NBH_NAMES  \n",
       "0  River Terrace, Benning, Greenway, Dupont Park  \n",
       "1                      Near Southeast, Navy Yard  \n",
       "\n",
       "[2 rows x 37 columns]"
      ]
     },
     "execution_count": 12,
     "metadata": {},
     "output_type": "execute_result"
    }
   ],
   "source": [
    "gdf_join.head(2)"
   ]
  },
  {
   "cell_type": "markdown",
   "id": "e740f634",
   "metadata": {},
   "source": [
    "## Create a table of counts per cluster per year"
   ]
  },
  {
   "cell_type": "code",
   "execution_count": 13,
   "id": "1d6e6409",
   "metadata": {},
   "outputs": [],
   "source": [
    "counts_by_year = gdf_join.value_counts(['year', 'NAME']).to_frame().reset_index().sort_values(['NAME', 'year'])"
   ]
  },
  {
   "cell_type": "code",
   "execution_count": 14,
   "id": "7445817d",
   "metadata": {},
   "outputs": [
    {
     "data": {
      "text/html": [
       "<div>\n",
       "<style scoped>\n",
       "    .dataframe tbody tr th:only-of-type {\n",
       "        vertical-align: middle;\n",
       "    }\n",
       "\n",
       "    .dataframe tbody tr th {\n",
       "        vertical-align: top;\n",
       "    }\n",
       "\n",
       "    .dataframe thead th {\n",
       "        text-align: right;\n",
       "    }\n",
       "</style>\n",
       "<table border=\"1\" class=\"dataframe\">\n",
       "  <thead>\n",
       "    <tr style=\"text-align: right;\">\n",
       "      <th></th>\n",
       "      <th>year</th>\n",
       "      <th>cluster</th>\n",
       "      <th>permit_count</th>\n",
       "    </tr>\n",
       "  </thead>\n",
       "  <tbody>\n",
       "    <tr>\n",
       "      <th>312</th>\n",
       "      <td>2012</td>\n",
       "      <td>Cluster 1</td>\n",
       "      <td>148</td>\n",
       "    </tr>\n",
       "    <tr>\n",
       "      <th>216</th>\n",
       "      <td>2013</td>\n",
       "      <td>Cluster 1</td>\n",
       "      <td>263</td>\n",
       "    </tr>\n",
       "    <tr>\n",
       "      <th>192</th>\n",
       "      <td>2014</td>\n",
       "      <td>Cluster 1</td>\n",
       "      <td>300</td>\n",
       "    </tr>\n",
       "    <tr>\n",
       "      <th>124</th>\n",
       "      <td>2015</td>\n",
       "      <td>Cluster 1</td>\n",
       "      <td>432</td>\n",
       "    </tr>\n",
       "    <tr>\n",
       "      <th>149</th>\n",
       "      <td>2016</td>\n",
       "      <td>Cluster 1</td>\n",
       "      <td>381</td>\n",
       "    </tr>\n",
       "    <tr>\n",
       "      <th>...</th>\n",
       "      <td>...</td>\n",
       "      <td>...</td>\n",
       "      <td>...</td>\n",
       "    </tr>\n",
       "    <tr>\n",
       "      <th>144</th>\n",
       "      <td>2017</td>\n",
       "      <td>Cluster 9</td>\n",
       "      <td>389</td>\n",
       "    </tr>\n",
       "    <tr>\n",
       "      <th>113</th>\n",
       "      <td>2018</td>\n",
       "      <td>Cluster 9</td>\n",
       "      <td>462</td>\n",
       "    </tr>\n",
       "    <tr>\n",
       "      <th>116</th>\n",
       "      <td>2019</td>\n",
       "      <td>Cluster 9</td>\n",
       "      <td>450</td>\n",
       "    </tr>\n",
       "    <tr>\n",
       "      <th>64</th>\n",
       "      <td>2020</td>\n",
       "      <td>Cluster 9</td>\n",
       "      <td>612</td>\n",
       "    </tr>\n",
       "    <tr>\n",
       "      <th>128</th>\n",
       "      <td>2021</td>\n",
       "      <td>Cluster 9</td>\n",
       "      <td>426</td>\n",
       "    </tr>\n",
       "  </tbody>\n",
       "</table>\n",
       "<p>451 rows × 3 columns</p>\n",
       "</div>"
      ],
      "text/plain": [
       "     year    cluster  permit_count\n",
       "312  2012  Cluster 1           148\n",
       "216  2013  Cluster 1           263\n",
       "192  2014  Cluster 1           300\n",
       "124  2015  Cluster 1           432\n",
       "149  2016  Cluster 1           381\n",
       "..    ...        ...           ...\n",
       "144  2017  Cluster 9           389\n",
       "113  2018  Cluster 9           462\n",
       "116  2019  Cluster 9           450\n",
       "64   2020  Cluster 9           612\n",
       "128  2021  Cluster 9           426\n",
       "\n",
       "[451 rows x 3 columns]"
      ]
     },
     "execution_count": 14,
     "metadata": {},
     "output_type": "execute_result"
    }
   ],
   "source": [
    "counts_by_year.columns = ['year', 'cluster', 'permit_count']\n",
    "counts_by_year"
   ]
  },
  {
   "cell_type": "markdown",
   "id": "95918de3",
   "metadata": {},
   "source": [
    "## Convert that table into one row per cluster, with years as columns"
   ]
  },
  {
   "cell_type": "code",
   "execution_count": 15,
   "id": "a8c8a205",
   "metadata": {},
   "outputs": [],
   "source": [
    "pivoted = counts_by_year.pivot(index=\"cluster\", columns='year', values='permit_count')"
   ]
  },
  {
   "cell_type": "code",
   "execution_count": 16,
   "id": "696261bf",
   "metadata": {},
   "outputs": [],
   "source": [
    "pivoted_gdf = pd.merge(pivoted, gdf_neigh[['NAME', 'NBH_NAMES', 'geometry']], how=\"left\", left_index=True, right_on=\"NAME\")"
   ]
  },
  {
   "cell_type": "code",
   "execution_count": 17,
   "id": "f3217959",
   "metadata": {},
   "outputs": [],
   "source": [
    "pivoted_gdf = gpd.GeoDataFrame(pivoted_gdf, geometry='geometry', crs=4326)"
   ]
  },
  {
   "cell_type": "code",
   "execution_count": 18,
   "id": "4eba588d",
   "metadata": {},
   "outputs": [
    {
     "data": {
      "text/plain": [
       "geopandas.geodataframe.GeoDataFrame"
      ]
     },
     "execution_count": 18,
     "metadata": {},
     "output_type": "execute_result"
    }
   ],
   "source": [
    "type(pivoted_gdf)"
   ]
  },
  {
   "cell_type": "markdown",
   "id": "271c707d",
   "metadata": {},
   "source": [
    "## Add the percent change from 2012 to 2021"
   ]
  },
  {
   "cell_type": "code",
   "execution_count": 21,
   "id": "70eba366",
   "metadata": {},
   "outputs": [],
   "source": [
    "pivoted_gdf['perc_change'] = (pivoted_gdf['2021'] / pivoted_gdf['2012']) * 100 - 100"
   ]
  },
  {
   "cell_type": "code",
   "execution_count": 22,
   "id": "c0ef9fde",
   "metadata": {},
   "outputs": [],
   "source": [
    "top_10 = pivoted_gdf.sort_values('perc_change', ascending=False).head(10)"
   ]
  },
  {
   "cell_type": "markdown",
   "id": "74d03cfd",
   "metadata": {},
   "source": [
    "## Plot the ten clusters with the highest 'Percent Change'"
   ]
  },
  {
   "cell_type": "code",
   "execution_count": 23,
   "id": "212ebb95",
   "metadata": {},
   "outputs": [],
   "source": [
    "import matplotlib.pyplot as plt"
   ]
  },
  {
   "cell_type": "code",
   "execution_count": 24,
   "id": "1e6cda6d",
   "metadata": {},
   "outputs": [
    {
     "data": {
      "text/plain": [
       "Index([2012, 2013, 2014, 2015, 2016, 2017, 2018, 2019, 2020, 2021], dtype='object')"
      ]
     },
     "execution_count": 24,
     "metadata": {},
     "output_type": "execute_result"
    }
   ],
   "source": [
    "years = top_10.columns[0:-4]\n",
    "years"
   ]
  },
  {
   "cell_type": "code",
   "execution_count": 25,
   "id": "39c9976e",
   "metadata": {},
   "outputs": [
    {
     "data": {
      "text/plain": [
       "<matplotlib.legend.Legend at 0x2328d133ee0>"
      ]
     },
     "execution_count": 25,
     "metadata": {},
     "output_type": "execute_result"
    },
    {
     "data": {
      "image/png": "[encoded data removed]",
      "text/plain": [
       "<Figure size 1080x360 with 1 Axes>"
      ]
     },
     "metadata": {
      "needs_background": "light"
     },
     "output_type": "display_data"
    }
   ],
   "source": [
    "plt.figure(figsize=(15, 5))\n",
    "\n",
    "for idx, row in top_10.iterrows():\n",
    "    plt.plot(years, row[years], label=row['NAME'])\n",
    "plt.legend()"
   ]
  },
  {
   "cell_type": "markdown",
   "id": "f83fdcd7",
   "metadata": {},
   "source": [
    "## Plot all neighborhood clusters as a map"
   ]
  },
  {
   "cell_type": "code",
   "execution_count": 26,
   "id": "a6d9ad64",
   "metadata": {},
   "outputs": [
    {
     "data": {
      "text/plain": [
       "<AxesSubplot:>"
      ]
     },
     "execution_count": 26,
     "metadata": {},
     "output_type": "execute_result"
    },
    {
     "data": {
      "image/png": "[encoded data removed]",
      "text/plain": [
       "<Figure size 720x720 with 2 Axes>"
      ]
     },
     "metadata": {
      "needs_background": "light"
     },
     "output_type": "display_data"
    }
   ],
   "source": [
    "pivoted_gdf.plot(column='perc_change', cmap='RdYlGn', legend=True, figsize=(10, 10))"
   ]
  },
  {
   "cell_type": "markdown",
   "id": "43cbb03c",
   "metadata": {},
   "source": [
    "# Write to file"
   ]
  },
  {
   "cell_type": "code",
   "execution_count": 31,
   "id": "e0e28cf0",
   "metadata": {},
   "outputs": [],
   "source": [
    "pivoted_gdf.to_file(\"construction_counts_by_cluster_by_year.geojson\", driver=\"GeoJSON\")"
   ]
  },
  {
   "cell_type": "code",
   "execution_count": null,
   "id": "f0443fd4",
   "metadata": {},
   "outputs": [],
   "source": []
  }
 ],
 "metadata": {
  "kernelspec": {
   "display_name": "Python [conda env:.conda-geo_env]",
   "language": "python",
   "name": "conda-env-.conda-geo_env-py"
  },
  "language_info": {
   "codemirror_mode": {
    "name": "ipython",
    "version": 3
   },
   "file_extension": ".py",
   "mimetype": "text/x-python",
   "name": "python",
   "nbconvert_exporter": "python",
   "pygments_lexer": "ipython3",
   "version": "3.9.7"
  }
 },
 "nbformat": 4,
 "nbformat_minor": 5
}
