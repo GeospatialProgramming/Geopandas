{
 "cells": [
  {
   "cell_type": "code",
   "execution_count": 1,
   "id": "8e836472",
   "metadata": {},
   "outputs": [],
   "source": [
    "import re\n",
    "from glob import glob\n",
    "from docx import Document"
   ]
  },
  {
   "cell_type": "code",
   "execution_count": 2,
   "id": "ac962492",
   "metadata": {},
   "outputs": [
    {
     "data": {
      "text/plain": [
       "84"
      ]
     },
     "execution_count": 2,
     "metadata": {},
     "output_type": "execute_result"
    }
   ],
   "source": [
    "# Identify our crime reports\n",
    "files = glob('crime_reports/*.docx')\n",
    "len(files)"
   ]
  },
  {
   "cell_type": "code",
   "execution_count": 9,
   "id": "6b7cb5e3",
   "metadata": {},
   "outputs": [],
   "source": [
    "# function for reading text files, using the docx library\n",
    "#  https://python-docx.readthedocs.io/en/latest/\n",
    "def get_text(file):\n",
    "    document = Document(file)\n",
    "    return '\\n'.join([p.text for p in document.paragraphs])"
   ]
  },
  {
   "cell_type": "code",
   "execution_count": 10,
   "id": "0925f34a",
   "metadata": {},
   "outputs": [],
   "source": [
    "text = get_text(files[0])"
   ]
  },
  {
   "cell_type": "code",
   "execution_count": 12,
   "id": "ce47d05a",
   "metadata": {},
   "outputs": [],
   "source": [
    "# Patterns created at regex101\n",
    "coord_pattern = re.compile(r'\\(-?[1-9]{1,2}\\.[0-9]{1,10}, -?[1-9]{1,2}\\.[0-9]{1,10}\\)')\n",
    "date_pattern = re.compile(r'[0-9]{1,2}\\/[0-9]{1,2}\\/2016')\n",
    "time_pattern = re.compile(r'[0-9]{1,2}:[0-9]{2} (AM|PM)')"
   ]
  },
  {
   "cell_type": "code",
   "execution_count": 28,
   "id": "e8c417af",
   "metadata": {},
   "outputs": [
    {
     "data": {
      "text/plain": [
       "'7:24 AM'"
      ]
     },
     "execution_count": 28,
     "metadata": {},
     "output_type": "execute_result"
    }
   ],
   "source": [
    "re.search(time_pattern, text).group()"
   ]
  },
  {
   "cell_type": "code",
   "execution_count": 29,
   "id": "6d6e6d67",
   "metadata": {},
   "outputs": [],
   "source": [
    "# Apply our patterns to each file, and create one dictionary of results per file\n",
    "results = []\n",
    "\n",
    "for file in files:\n",
    "    text = get_text(file)\n",
    "    \n",
    "    coord = coord_pattern.findall(text)[0]\n",
    "    lat, lon = coord[1:-1].split(', ')\n",
    "\n",
    "    date = date_pattern.findall(text)[0]\n",
    "\n",
    "    time = re.search(time_pattern, text)\n",
    "    time = '' if time is None else time.group()\n",
    "    \n",
    "    row_dict = {\n",
    "        \"lat\": float(lat),\n",
    "        \"lon\": float(lon),\n",
    "        \"dtg\": date + \" \" + time,\n",
    "        \"text\": text\n",
    "    }\n",
    "    \n",
    "    results.append(row_dict)"
   ]
  },
  {
   "cell_type": "code",
   "execution_count": 33,
   "id": "ad64c12a",
   "metadata": {},
   "outputs": [],
   "source": [
    "import pandas as pd\n",
    "import geopandas as gpd"
   ]
  },
  {
   "cell_type": "code",
   "execution_count": 34,
   "id": "676a8ba3",
   "metadata": {},
   "outputs": [],
   "source": [
    "# Convert our results into a geodataframe, and write to file\n",
    "df = pd.DataFrame(results)\n",
    "gdf = gpd.GeoDataFrame(df, geometry=gpd.points_from_xy(df.lon, df.lat), crs=4326)\n",
    "\n",
    "gdf.to_file(\"CrimeReports.shp\")"
   ]
  },
  {
   "cell_type": "code",
   "execution_count": null,
   "id": "04fae333",
   "metadata": {},
   "outputs": [],
   "source": []
  }
 ],
 "metadata": {
  "kernelspec": {
   "display_name": "Python [conda env:.conda-geo_env]",
   "language": "python",
   "name": "conda-env-.conda-geo_env-py"
  },
  "language_info": {
   "codemirror_mode": {
    "name": "ipython",
    "version": 3
   },
   "file_extension": ".py",
   "mimetype": "text/x-python",
   "name": "python",
   "nbconvert_exporter": "python",
   "pygments_lexer": "ipython3",
   "version": "3.9.7"
  }
 },
 "nbformat": 4,
 "nbformat_minor": 5
}
